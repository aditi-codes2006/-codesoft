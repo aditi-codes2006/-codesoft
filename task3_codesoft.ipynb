{
 "cells": [
  {
   "cell_type": "code",
   "execution_count": 1,
   "id": "64a224b8-73a9-4fa8-a085-7140bb2d8a54",
   "metadata": {},
   "outputs": [
    {
     "name": "stdout",
     "output_type": "stream",
     "text": [
      "=== Password Generator ===\n"
     ]
    },
    {
     "name": "stdin",
     "output_type": "stream",
     "text": [
      "Enter desired password length:  6\n",
      "Include lowercase letters? (y/n):  y\n",
      "Include uppercase letters? (y/n):  y\n",
      "Include digits? (y/n):  y\n",
      "Include symbols? (y/n):  y\n"
     ]
    },
    {
     "name": "stdout",
     "output_type": "stream",
     "text": [
      "Generated password: 2~\\0{%\n"
     ]
    }
   ],
   "source": [
    "import random\n",
    "import string\n",
    "\n",
    "def password_generator():\n",
    "    print(\"=== Password Generator ===\")\n",
    "    # Prompt user for password length\n",
    "    length = int(input(\"Enter desired password length: \"))\n",
    "\n",
    "    # Prompt user for character set inclusion\n",
    "    use_lowercase = input(\"Include lowercase letters? (y/n): \").lower() == \"y\"\n",
    "    use_uppercase = input(\"Include uppercase letters? (y/n): \").lower() == \"y\"\n",
    "    use_digits = input(\"Include digits? (y/n): \").lower() == \"y\"\n",
    "    use_symbols = input(\"Include symbols? (y/n): \").lower() == \"y\"\n",
    "\n",
    "    # Build the character set based on user choices\n",
    "    characters = \"\"\n",
    "    if use_lowercase:\n",
    "        characters += string.ascii_lowercase\n",
    "    if use_uppercase:\n",
    "        characters += string.ascii_uppercase\n",
    "    if use_digits:\n",
    "        characters += string.digits\n",
    "    if use_symbols:\n",
    "        characters += string.punctuation\n",
    "\n",
    "    if not characters:\n",
    "        print(\"Error: No character types selected. Please select at least one type.\")\n",
    "        return\n",
    "\n",
    "    # Generate the password\n",
    "    password = \"\".join(random.choice(characters) for _ in range(length))\n",
    "    print(f\"Generated password: {password}\")\n",
    "\n",
    "if __name__ == \"__main__\":\n",
    "    password_generator()"
   ]
  },
  {
   "cell_type": "code",
   "execution_count": null,
   "id": "49882218-06e1-4e50-ad7f-e30f9321bc31",
   "metadata": {},
   "outputs": [],
   "source": []
  }
 ],
 "metadata": {
  "kernelspec": {
   "display_name": "Python 3 (ipykernel)",
   "language": "python",
   "name": "python3"
  },
  "language_info": {
   "codemirror_mode": {
    "name": "ipython",
    "version": 3
   },
   "file_extension": ".py",
   "mimetype": "text/x-python",
   "name": "python",
   "nbconvert_exporter": "python",
   "pygments_lexer": "ipython3",
   "version": "3.12.7"
  }
 },
 "nbformat": 4,
 "nbformat_minor": 5
}
