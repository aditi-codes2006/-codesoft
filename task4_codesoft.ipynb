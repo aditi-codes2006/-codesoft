{
 "cells": [
  {
   "cell_type": "code",
   "execution_count": null,
   "id": "97b87096-0ceb-4e68-8c6b-23819fcbbb1e",
   "metadata": {},
   "outputs": [
    {
     "name": "stdout",
     "output_type": "stream",
     "text": [
      "\n",
      "--- Round 1 ---\n"
     ]
    },
    {
     "name": "stdin",
     "output_type": "stream",
     "text": [
      "Enter your choice (rock, paper, or scissors):  1\n"
     ]
    },
    {
     "name": "stdout",
     "output_type": "stream",
     "text": [
      "Invalid choice. Please try again.\n"
     ]
    },
    {
     "name": "stdin",
     "output_type": "stream",
     "text": [
      "Enter your choice (rock, paper, or scissors):  2\n"
     ]
    },
    {
     "name": "stdout",
     "output_type": "stream",
     "text": [
      "Invalid choice. Please try again.\n"
     ]
    },
    {
     "name": "stdin",
     "output_type": "stream",
     "text": [
      "Enter your choice (rock, paper, or scissors):  rock\n"
     ]
    },
    {
     "name": "stdout",
     "output_type": "stream",
     "text": [
      "You chose: rock\n",
      "Computer chose: scissors\n",
      "You win this round!\n",
      "Score => You: 1 | Computer: 0\n"
     ]
    }
   ],
   "source": [
    "import random\n",
    "\n",
    "def get_user_choice():\n",
    "    choices = ['rock', 'paper', 'scissors']\n",
    "    while True:\n",
    "        user_input = input(\"Enter your choice (rock, paper, or scissors): \").lower()\n",
    "        if user_input in choices:\n",
    "            return user_input\n",
    "        else:\n",
    "            print(\"Invalid choice. Please try again.\")\n",
    "\n",
    "def get_computer_choice():\n",
    "    return random.choice(['rock', 'paper', 'scissors'])\n",
    "\n",
    "def determine_winner(user, computer):\n",
    "    if user == computer:\n",
    "        return \"tie\"\n",
    "    elif (user == \"rock\" and computer == \"scissors\") or \\\n",
    "         (user == \"scissors\" and computer == \"paper\") or \\\n",
    "         (user == \"paper\" and computer == \"rock\"):\n",
    "        return \"win\"\n",
    "    else:\n",
    "        return \"lose\"\n",
    "\n",
    "def play_game():\n",
    "    user_score = 0\n",
    "    computer_score = 0\n",
    "    round_number = 1\n",
    "\n",
    "    while True:\n",
    "        print(f\"\\n--- Round {round_number} ---\")\n",
    "        user_choice = get_user_choice()\n",
    "        computer_choice = get_computer_choice()\n",
    "        print(f\"You chose: {user_choice}\")\n",
    "        print(f\"Computer chose: {computer_choice}\")\n",
    "\n",
    "        result = determine_winner(user_choice, computer_choice)\n",
    "        if result == \"win\":\n",
    "            print(\"You win this round!\")\n",
    "            user_score += 1\n",
    "        elif result == \"lose\":\n",
    "            print(\"You lose this round.\")\n",
    "            computer_score += 1\n",
    "        else:\n",
    "            print(\"It's a tie.\")\n",
    "\n",
    "        print(f\"Score => You: {user_score} | Computer: {computer_score}\")\n",
    "\n",
    "        play_again = input(\"Do you want to play another round? (y/n): \").lower()\n",
    "        if play_again != 'y':\n",
    "            print(\"Thanks for playing!\")\n",
    "            break\n",
    "        round_number += 1\n",
    "\n",
    "if __name__ == \"__main__\":\n",
    "    play_game()\n"
   ]
  },
  {
   "cell_type": "code",
   "execution_count": null,
   "id": "4f5dfa60-3769-4d18-a3cc-a794886b0bc9",
   "metadata": {},
   "outputs": [],
   "source": []
  }
 ],
 "metadata": {
  "kernelspec": {
   "display_name": "Python 3 (ipykernel)",
   "language": "python",
   "name": "python3"
  },
  "language_info": {
   "codemirror_mode": {
    "name": "ipython",
    "version": 3
   },
   "file_extension": ".py",
   "mimetype": "text/x-python",
   "name": "python",
   "nbconvert_exporter": "python",
   "pygments_lexer": "ipython3",
   "version": "3.12.7"
  }
 },
 "nbformat": 4,
 "nbformat_minor": 5
}
