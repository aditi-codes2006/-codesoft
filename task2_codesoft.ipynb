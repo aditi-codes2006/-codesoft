import tkinter as tk
from tkinter import messagebox
import math

# Function to perform calculation
def calculate():
    try:
        num1 = float(entry1.get())
        num2 = float(entry2.get()) if entry2.get() else 0
        op = operator.get()

        if op == '+':
            result = num1 + num2
        elif op == '-':
            result = num1 - num2
        elif op == '*':
            result = num1 * num2
        elif op == '/':
            if num2 == 0:
                messagebox.showerror("Error", "Division by zero is not allowed.")
                return
            result = num1 / num2
        elif op == 'x^y':
            result = math.pow(num1, num2)
        elif op == '√':
            if num1 < 0:
                messagebox.showerror("Error", "Square root of negative number.")
                return
            result = math.sqrt(num1)
        else:
            messagebox.showerror("Error", "Select a valid operation.")
            return

        result_label.config(text=f"Result: {result}")
        history_listbox.insert(tk.END, f"{num1} {op} {num2 if op != '√' else ''} = {result}")

    except ValueError:
        messagebox.showerror("Input Error", "Enter valid numeric input.")

# Clear inputs and result
def clear_all():
    entry1.delete(0, tk.END)
    entry2.delete(0, tk.END)
    result_label.config(text="Result: ")
    operator.set('+')

# Setup GUI
root = tk.Tk()
root.title("Advanced Calculator")
root.geometry("400x500")
root.configure(bg="#f5f5f5")

# Input fields
tk.Label(root, text="Enter First Number:", bg="#f5f5f5").pack(pady=5)
entry1 = tk.Entry(root)
entry1.pack(pady=5)

tk.Label(root, text="Enter Second Number (if required):", bg="#f5f5f5").pack(pady=5)
entry2 = tk.Entry(root)
entry2.pack(pady=5)

# Operation options
tk.Label(root, text="Select Operation:", bg="#f5f5f5").pack(pady=10)
operator = tk.StringVar()
operator.set('+')

op_frame = tk.Frame(root, bg="#f5f5f5")
op_frame.pack()

operations = ['+', '-', '*', '/', 'x^y', '√']
for symbol in operations:
    tk.Radiobutton(op_frame, text=symbol, variable=operator, value=symbol, bg="#f5f5f5").pack(side=tk.LEFT, padx=5)

# Buttons
tk.Button(root, text="Calculate", command=calculate, bg="#4CAF50", fg="white", width=15).pack(pady=10)
tk.Button(root, text="Clear", command=clear_all, bg="#f44336", fg="white", width=15).pack(pady=5)

# Result display
result_label = tk.Label(root, text="Result: ", font=('Arial', 12), bg="#f5f5f5")
result_label.pack(pady=10)

# History display
tk.Label(root, text="Calculation History:", bg="#f5f5f5").pack()
history_listbox = tk.Listbox(root, width=50)
history_listbox.pack(pady=5)

# Keyboard binding for Enter key
def enter_key(event):
    calculate()

root.bind('<Return>', enter_key)

# Start GUI
root.mainloop()
